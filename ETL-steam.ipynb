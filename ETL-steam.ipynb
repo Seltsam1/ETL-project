{
 "cells": [
  {
   "cell_type": "markdown",
   "metadata": {},
   "source": [
    "# ETL Project"
   ]
  },
  {
   "cell_type": "code",
   "execution_count": 4,
   "metadata": {},
   "outputs": [],
   "source": [
    "# Dependencies\n",
    "\n",
    "import pandas as pd\n",
    "\n",
    "from sqlalchemy import create_engine\n",
    "\n"
   ]
  },
  {
   "cell_type": "code",
   "execution_count": 5,
   "metadata": {},
   "outputs": [
    {
     "data": {
      "text/html": [
       "<div>\n",
       "<style scoped>\n",
       "    .dataframe tbody tr th:only-of-type {\n",
       "        vertical-align: middle;\n",
       "    }\n",
       "\n",
       "    .dataframe tbody tr th {\n",
       "        vertical-align: top;\n",
       "    }\n",
       "\n",
       "    .dataframe thead th {\n",
       "        text-align: right;\n",
       "    }\n",
       "</style>\n",
       "<table border=\"1\" class=\"dataframe\">\n",
       "  <thead>\n",
       "    <tr style=\"text-align: right;\">\n",
       "      <th></th>\n",
       "      <th>gamename</th>\n",
       "      <th>year</th>\n",
       "      <th>month</th>\n",
       "      <th>avg</th>\n",
       "      <th>gain</th>\n",
       "      <th>peak</th>\n",
       "      <th>avg_peak_perc</th>\n",
       "    </tr>\n",
       "  </thead>\n",
       "  <tbody>\n",
       "    <tr>\n",
       "      <th>0</th>\n",
       "      <td>Counter-Strike: Global Offensive</td>\n",
       "      <td>2021</td>\n",
       "      <td>February</td>\n",
       "      <td>741013.24</td>\n",
       "      <td>-2196.42</td>\n",
       "      <td>1123485</td>\n",
       "      <td>65.9567%</td>\n",
       "    </tr>\n",
       "    <tr>\n",
       "      <th>1</th>\n",
       "      <td>Counter-Strike: Global Offensive</td>\n",
       "      <td>2021</td>\n",
       "      <td>January</td>\n",
       "      <td>743209.66</td>\n",
       "      <td>25405.91</td>\n",
       "      <td>1124553</td>\n",
       "      <td>66.0893%</td>\n",
       "    </tr>\n",
       "    <tr>\n",
       "      <th>2</th>\n",
       "      <td>Counter-Strike: Global Offensive</td>\n",
       "      <td>2020</td>\n",
       "      <td>December</td>\n",
       "      <td>717803.75</td>\n",
       "      <td>49049.17</td>\n",
       "      <td>1164396</td>\n",
       "      <td>61.646%</td>\n",
       "    </tr>\n",
       "    <tr>\n",
       "      <th>3</th>\n",
       "      <td>Counter-Strike: Global Offensive</td>\n",
       "      <td>2020</td>\n",
       "      <td>November</td>\n",
       "      <td>668754.58</td>\n",
       "      <td>55087.89</td>\n",
       "      <td>1037464</td>\n",
       "      <td>64.4605%</td>\n",
       "    </tr>\n",
       "    <tr>\n",
       "      <th>4</th>\n",
       "      <td>Counter-Strike: Global Offensive</td>\n",
       "      <td>2020</td>\n",
       "      <td>October</td>\n",
       "      <td>613666.69</td>\n",
       "      <td>6816.37</td>\n",
       "      <td>943876</td>\n",
       "      <td>65.0156%</td>\n",
       "    </tr>\n",
       "  </tbody>\n",
       "</table>\n",
       "</div>"
      ],
      "text/plain": [
       "                           gamename  year      month        avg      gain  \\\n",
       "0  Counter-Strike: Global Offensive  2021  February   741013.24  -2196.42   \n",
       "1  Counter-Strike: Global Offensive  2021   January   743209.66  25405.91   \n",
       "2  Counter-Strike: Global Offensive  2020  December   717803.75  49049.17   \n",
       "3  Counter-Strike: Global Offensive  2020  November   668754.58  55087.89   \n",
       "4  Counter-Strike: Global Offensive  2020   October   613666.69   6816.37   \n",
       "\n",
       "      peak avg_peak_perc  \n",
       "0  1123485      65.9567%  \n",
       "1  1124553      66.0893%  \n",
       "2  1164396       61.646%  \n",
       "3  1037464      64.4605%  \n",
       "4   943876      65.0156%  "
      ]
     },
     "execution_count": 5,
     "metadata": {},
     "output_type": "execute_result"
    }
   ],
   "source": [
    "# Store csv into a dataframe\n",
    "\n",
    "csv_popular = (\"./Resources/SteamCharts.csv\")\n",
    "\n",
    "popular_df = pd.read_csv(csv_popular,encoding='unicode_escape')\n",
    "\n",
    "popular_df.head()"
   ]
  },
  {
   "cell_type": "code",
   "execution_count": null,
   "metadata": {},
   "outputs": [],
   "source": []
  }
 ],
 "metadata": {
  "kernelspec": {
   "display_name": "Python 3",
   "language": "python",
   "name": "python3"
  },
  "language_info": {
   "codemirror_mode": {
    "name": "ipython",
    "version": 3
   },
   "file_extension": ".py",
   "mimetype": "text/x-python",
   "name": "python",
   "nbconvert_exporter": "python",
   "pygments_lexer": "ipython3",
   "version": "3.8.5"
  }
 },
 "nbformat": 4,
 "nbformat_minor": 4
}
